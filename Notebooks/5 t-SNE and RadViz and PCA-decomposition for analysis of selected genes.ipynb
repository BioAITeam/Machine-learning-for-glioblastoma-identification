{
 "cells": [
  {
   "cell_type": "markdown",
   "metadata": {
    "collapsed": true
   },
   "source": [
    "# LIBRARIES"
   ]
  },
  {
   "cell_type": "code",
   "execution_count": null,
   "metadata": {},
   "outputs": [],
   "source": [
    "import os\n",
    "import sys \n",
    "import numpy as np \n",
    "import pandas as pd\n",
    "import yellowbrick as yb \n",
    "import matplotlib as mpl \n",
    "import matplotlib.pyplot as plt \n",
    "from yellowbrick.features import PCADecomposition\n",
    "from yellowbrick.features import RadViz \n",
    "from sklearn.preprocessing import LabelEncoder\n",
    "from yellowbrick.features import Manifold\n",
    "%matplotlib inline\n",
    "mpl.rcParams[\"figure.figsize\"] = (9,6)"
   ]
  },
  {
   "cell_type": "markdown",
   "metadata": {},
   "source": [
    "# FUNCTIONS"
   ]
  },
  {
   "cell_type": "code",
   "execution_count": null,
   "metadata": {},
   "outputs": [],
   "source": [
    "def load_data_complete_s1(path):\n",
    "    df_complete=pd.read_csv(path)\n",
    "    \n",
    "    # Scenario 1: Tumor_Core & Tumor_Periphery\n",
    "    # Se procede a eliminar el N_Periphery\n",
    "\n",
    "    df2 = df_complete.copy()\n",
    "    df2.drop(df2[df2.classes == \"NP\"].index, inplace=True)  \n",
    "    \n",
    "    # Eliminamos los labels\n",
    "    features = df2.copy()\n",
    "    features = features.drop(['classes'], axis=1)\n",
    "    \n",
    "    #Extraemos los labels\n",
    "    labels = df2.copy()\n",
    "    labels = labels['classes'].values\n",
    "    \n",
    "    return features,labels\n",
    "\n",
    "def load_data_complete_s2(path):\n",
    "    df_complete=pd.read_csv(path)\n",
    "    \n",
    "    # Scenario 2: Normal_Periphery & Tumor_Periphery\n",
    "    # Se procede a eliminar el T_Core\n",
    "\n",
    "    df2 = df_complete.copy()\n",
    "    df2.drop(df2[df2.classes == \"TC\"].index, inplace=True)  \n",
    "    \n",
    "    # Eliminamos los labels\n",
    "    features = df2.copy()\n",
    "    features = features.drop(['classes'], axis=1)\n",
    "    \n",
    "    #Extraemos los labels\n",
    "    labels = df2.copy()\n",
    "    labels = labels['classes'].values\n",
    "    \n",
    "    return features,labels\n",
    "\n",
    "def load_data_complete_s3(path):\n",
    "    df_complete=pd.read_csv(path)\n",
    "    # Scenario 3: Tumor_Periphery&Core & Normal_Periphery\n",
    "    \n",
    "    # Se procede aislar al N_Periphery\n",
    "    df2 = df_complete.copy()\n",
    "    df2.drop(df2[df2.classes == \"TP\"].index, inplace=True)  \n",
    "    df2.drop(df2[df2.classes == \"TC\"].index, inplace=True)  \n",
    "    \n",
    "    # Eliminamos el N_Periphery\n",
    "    df3 = df_complete.copy()\n",
    "    df3.drop(df3[df3.classes == \"NP\"].index, inplace=True) \n",
    "    \n",
    "    # y luego se procede a renombrar la columna classes con T_PC, al quedar la unión de estas\n",
    "    df3[\"classes\"] = \"TPC\"\n",
    "    \n",
    "    # Se procede a crear el DF ya con las clases que corresponde al Escenario 3: Tumor_Periphery&Core & Normal_Periphery\n",
    "    #df2 N_Periphery\n",
    "    #df3 T_PC\n",
    "\n",
    "    df4 = pd.concat([df2,df3]).reset_index(drop=True) \n",
    "    \n",
    "    # Eliminamos los labels\n",
    "    features = df4.copy()\n",
    "    features = features.drop(['classes'], axis=1)\n",
    "    \n",
    "    #Extraemos los labels\n",
    "    labels = df4.copy()\n",
    "\n",
    "    labels = labels['classes'].values\n",
    "    \n",
    "    return features,labels\n",
    "\n",
    "def load_data_complete_s4(path):\n",
    "    df_complete=pd.read_csv(path)\n",
    "    \n",
    "    # Scenario 4 new: Tumor_Core & Tumor_Periphery & N_Periphery\n",
    "\n",
    "    # Eliminamos los labels\n",
    "    features = df_complete.copy()\n",
    "    features = features.drop(['classes'], axis=1)\n",
    "    \n",
    "    #Extraemos los labels\n",
    "    labels = df_complete.copy()\n",
    "    labels = labels['classes'].values\n",
    "    \n",
    "    return features,labels"
   ]
  },
  {
   "cell_type": "markdown",
   "metadata": {},
   "source": [
    "# LOADING DATA"
   ]
  },
  {
   "cell_type": "code",
   "execution_count": null,
   "metadata": {},
   "outputs": [],
   "source": [
    "path = '../Data/DATA_Complete_GBM.csv'\n",
    "\n",
    "featuress1,labelss1=load_data_complete_s1(path)\n",
    "featuress2,labelss2=load_data_complete_s2(path)\n",
    "featuress3,labelss3=load_data_complete_s3(path)\n",
    "featuress4,labelss4=load_data_complete_s4(path)\n"
   ]
  },
  {
   "cell_type": "markdown",
   "metadata": {},
   "source": [
    "# PREPARING DATA"
   ]
  },
  {
   "cell_type": "code",
   "execution_count": null,
   "metadata": {},
   "outputs": [],
   "source": [
    "features65  =  ['ATP1A2','NMB','SPARCL1','USMG5','PTN','PCSK1N','ANAPC11','TMSB10','TMEM144','PSMB4',\n",
    "                'NRBP2','FTL','MIR3682','S1PR1','PRODH','SRP9','GAP43','RPL30','LAMA5','ECHDC2',\n",
    "                'EGFR','CALM1','APOD','SPOCK1','ANXA1','PTGDS','EIF1','VIM','MGLL','ITM2C',\n",
    "                'PLLP','ITGB8','HES6','RPS27L','GFAP','TRIM2','APOE','ANXA5','NAV1','TMSB4X',\n",
    "                'HSPB1','SEC61G','IGSF6','IGFBP2','RPLP1','CSF1R','NACA','HTRA1','CSF3R','CREG1',\n",
    "                'FAM107B','SLAMF9','GLDN','EMP3','COMMD6','ANXA2','RPL38','CEBPD','APBB1IP','HLA-DRB6',\n",
    "                'TUBGCP2','LCP2','LOC100505854','IFI44','GNG11']\n",
    "\n",
    "features12 = ['ANXA1','APOD','ATP1A2','CSF1R','EGFR','FTL','GFAP','ITGB8','PTGDS','SRP9','TMSB10','TMSB4X']\n",
    "\n",
    "features8  = [\"ATP1A2\", \"SPARCL1\", \"FTL\", \"EGFR\", \"SPOCK1\", \"ANXA1\", \"APOD\", \"TMSB4X\"]\n",
    "\n",
    "y = labelss4\n",
    "\n",
    "#23,368 genes\n",
    "X23368= featuress4 \n",
    "\n",
    "#65 genes\n",
    "X65 = featuress4[features65]\n",
    "\n",
    "#12 genes\n",
    "X12 = featuress4[features12]\n",
    "\n",
    "#8 genes\n",
    "X8 = featuress4[features8]\n",
    "\n",
    "classes=list(np.unique(labelss4))"
   ]
  },
  {
   "cell_type": "markdown",
   "metadata": {},
   "source": [
    "# t-SNE"
   ]
  },
  {
   "cell_type": "code",
   "execution_count": null,
   "metadata": {},
   "outputs": [],
   "source": [
    "classes"
   ]
  },
  {
   "cell_type": "code",
   "execution_count": null,
   "metadata": {},
   "outputs": [],
   "source": [
    "X=X8\n",
    "\n",
    "viz = Manifold(manifold=\"tsne\", classes=classes, colormap='tab20c',projection=2, alpha=1)\n",
    "viz.fit_transform(X, LabelEncoder().fit_transform(y))   \n",
    "viz.show()              "
   ]
  },
  {
   "cell_type": "code",
   "execution_count": null,
   "metadata": {},
   "outputs": [],
   "source": [
    "nrows=1\n",
    "ncols=4\n",
    "\n",
    "fig = plt.figure(figsize=(5*ncols,5*nrows))\n",
    "fig.subplots_adjust(hspace=0.45, wspace=0.02)\n",
    "\n",
    "############################################### 23368 genes\n",
    "i=1\n",
    "ax = fig.add_subplot(nrows, ncols, i)\n",
    "\n",
    "X=X23368\n",
    "\n",
    "viz = Manifold(manifold=\"tsne\", classes=classes, colormap='tab20c',projection=2, alpha=1)\n",
    "viz.fit_transform(X, LabelEncoder().fit_transform(y))   \n",
    "viz.finalize()\n",
    "\n",
    "ax.set_xticklabels([])\n",
    "ax.set_yticklabels([])\n",
    "ax.grid(False)\n",
    "#for spine in plt.gca().spines.values():\n",
    "#    spine.set_visible(False)\n",
    "\n",
    "title=\"A\"\n",
    "ax.set_title(title,fontsize=35,y=1.05)\n",
    "############################################### 65 genes\n",
    "i=2\n",
    "ax = fig.add_subplot(nrows, ncols, i)\n",
    "\n",
    "X=X65\n",
    "\n",
    "viz = Manifold(manifold=\"tsne\", classes=classes, colormap='tab20c',projection=2, alpha=1)\n",
    "viz.fit_transform(X, LabelEncoder().fit_transform(y))   \n",
    "viz.finalize()\n",
    "\n",
    "ax.set_xticklabels([])\n",
    "ax.set_yticklabels([])\n",
    "ax.grid(False)\n",
    "#for spine in plt.gca().spines.values():\n",
    "#    spine.set_visible(False)\n",
    "\n",
    "title=\"B\"\n",
    "ax.set_title(title,fontsize=35,y=1.05)\n",
    "############################################### 12 genes\n",
    "i=3\n",
    "ax = fig.add_subplot(nrows, ncols, i)\n",
    "\n",
    "X=X12\n",
    "\n",
    "viz = Manifold(manifold=\"tsne\", classes=classes, colormap='tab20c',projection=2, alpha=1)\n",
    "viz.fit_transform(X, LabelEncoder().fit_transform(y))   \n",
    "viz.finalize()\n",
    "\n",
    "ax.set_xticklabels([])\n",
    "ax.set_yticklabels([])\n",
    "ax.grid(False)\n",
    "#for spine in plt.gca().spines.values():\n",
    "#    spine.set_visible(False)\n",
    "\n",
    "title=\"C\"\n",
    "ax.set_title(title,fontsize=35,y=1.05)\n",
    "############################################### 8 genes\n",
    "i=4\n",
    "ax = fig.add_subplot(nrows, ncols, i)\n",
    "\n",
    "X=X8\n",
    "\n",
    "viz = Manifold(manifold=\"tsne\", classes=classes, colormap='tab20c',projection=2, alpha=1)\n",
    "viz.fit_transform(X, LabelEncoder().fit_transform(y))   \n",
    "viz.finalize()\n",
    "ax.set_xticklabels([])\n",
    "ax.set_yticklabels([])\n",
    "ax.grid(False)\n",
    "#for spine in plt.gca().spines.values():\n",
    "#    spine.set_visible(False)\n",
    "\n",
    "title=\"D\"\n",
    "ax.set_title(title,fontsize=35,y=1.05)\n",
    "###############################################\n",
    "model_name = \"t-SNE\"\n",
    "fig.savefig(\"./images\"+\"/\"+model_name+\".pdf\", bbox_inches = \"tight\", format='pdf') "
   ]
  },
  {
   "cell_type": "markdown",
   "metadata": {},
   "source": [
    "# RadViz and PCA 2D"
   ]
  },
  {
   "cell_type": "code",
   "execution_count": null,
   "metadata": {},
   "outputs": [],
   "source": [
    "classes"
   ]
  },
  {
   "cell_type": "code",
   "execution_count": null,
   "metadata": {},
   "outputs": [],
   "source": [
    "X=X8\n",
    "\n",
    "visualizer = RadViz(classes=classes, colormap='tab20c', alpha=1)                 # Instantiate the visualizer\n",
    "visualizer.fit(X, LabelEncoder().fit_transform(y))   # Fit the data to the visualizer\n",
    "visualizer.transform(X)                              # Transform the data\n",
    "visualizer.show()                                    # Finalize and render the figure"
   ]
  },
  {
   "cell_type": "code",
   "execution_count": null,
   "metadata": {},
   "outputs": [],
   "source": [
    "X=X8\n",
    "\n",
    "visualizer = PCADecomposition(classes=classes, proj_features=True, projection=2, colormap='tab20c', alpha=1)\n",
    "visualizer.fit_transform(X,LabelEncoder().fit_transform(y))\n",
    "visualizer.show()"
   ]
  },
  {
   "cell_type": "markdown",
   "metadata": {},
   "source": [
    "# RadViz - 8 AND 12 GENES OR FEATURES"
   ]
  },
  {
   "cell_type": "code",
   "execution_count": null,
   "metadata": {
    "scrolled": true
   },
   "outputs": [],
   "source": [
    "nrows=1\n",
    "ncols=2\n",
    "\n",
    "fig = plt.figure(figsize=(5*ncols,5*nrows))\n",
    "fig.subplots_adjust(hspace=0.45, wspace=0.2)\n",
    "\n",
    "############################################### 12 genes\n",
    "i=1\n",
    "ax = fig.add_subplot(nrows, ncols, i)\n",
    "\n",
    "X=X12\n",
    "\n",
    "visualizer = RadViz(classes=classes, colormap='tab20c', alpha=1)                  \n",
    "visualizer.fit(X, LabelEncoder().fit_transform(y))   \n",
    "visualizer.transform(X)                               \n",
    "visualizer.finalize()                                \n",
    "\n",
    "ax.set_xticklabels([])\n",
    "ax.set_yticklabels([])\n",
    "ax.grid(False)\n",
    "for spine in plt.gca().spines.values():\n",
    "    spine.set_visible(False)\n",
    "\n",
    "title=\"A\"\n",
    "ax.set_title(title,fontsize=25,y=1.01)\n",
    "ax.legend(loc=[0.7,0.95])\n",
    "############################################### 8 genes\n",
    "i=2\n",
    "ax = fig.add_subplot(nrows, ncols, i)\n",
    "\n",
    "X=X8\n",
    "\n",
    "visualizer = RadViz(classes=classes, colormap='tab20c', alpha=1)                  \n",
    "visualizer.fit(X, LabelEncoder().fit_transform(y))   \n",
    "visualizer.transform(X)                               \n",
    "visualizer.finalize()                                \n",
    "\n",
    "ax.set_xticklabels([])\n",
    "ax.set_yticklabels([])\n",
    "ax.grid(False)\n",
    "for spine in plt.gca().spines.values():\n",
    "    spine.set_visible(False)\n",
    "\n",
    "title=\"B\"\n",
    "ax.set_title(title,fontsize=25,y=1.01)\n",
    "ax.legend(loc=[0.7,0.95])\n",
    "###############################################\n",
    "model_name = \"RadViz_12_8\"\n",
    "fig.savefig(\"./images\"+\"/\"+model_name+\".pdf\", bbox_inches = \"tight\", format='pdf') "
   ]
  },
  {
   "cell_type": "markdown",
   "metadata": {},
   "source": [
    "# PCA 3D - 8 AND 12 GENES OR FEATURES"
   ]
  },
  {
   "cell_type": "code",
   "execution_count": null,
   "metadata": {},
   "outputs": [],
   "source": [
    "X=X12\n",
    "plt.figure(figsize=(12,12))\n",
    "visualizer = PCADecomposition(classes=classes, proj_features=True, projection=3, colormap='tab20c', alpha=1)\n",
    "visualizer.fit_transform(X,LabelEncoder().fit_transform(y))\n",
    "model_name=\"PCA_12\"\n",
    "visualizer.show(outpath=\"./images\"+\"/\"+model_name+\".pdf\",bbox_inches = \"tight\", format='pdf')                  \n"
   ]
  },
  {
   "cell_type": "code",
   "execution_count": null,
   "metadata": {},
   "outputs": [],
   "source": [
    "X=X8\n",
    "plt.figure(figsize=(12,12))\n",
    "visualizer = PCADecomposition(classes=classes, proj_features=True, projection=3, colormap='tab20c', alpha=1)\n",
    "visualizer.fit_transform(X,LabelEncoder().fit_transform(y))\n",
    "model_name=\"PCA_8\"\n",
    "visualizer.show(outpath=\"./images\"+\"/\"+model_name+\".pdf\",bbox_inches = \"tight\", format='pdf')                  \n"
   ]
  },
  {
   "cell_type": "code",
   "execution_count": null,
   "metadata": {},
   "outputs": [],
   "source": []
  }
 ],
 "metadata": {
  "anaconda-cloud": {},
  "kernelspec": {
   "display_name": "Python 3 (ipykernel)",
   "language": "python",
   "name": "python3"
  },
  "language_info": {
   "codemirror_mode": {
    "name": "ipython",
    "version": 3
   },
   "file_extension": ".py",
   "mimetype": "text/x-python",
   "name": "python",
   "nbconvert_exporter": "python",
   "pygments_lexer": "ipython3",
   "version": "3.8.12"
  },
  "latex_envs": {
   "LaTeX_envs_menu_present": true,
   "autoclose": false,
   "autocomplete": true,
   "bibliofile": "biblio.bib",
   "cite_by": "apalike",
   "current_citInitial": 1,
   "eqLabelWithNumbers": true,
   "eqNumInitial": 1,
   "hotkeys": {
    "equation": "Ctrl-E",
    "itemize": "Ctrl-I"
   },
   "labels_anchors": false,
   "latex_user_defs": false,
   "report_style_numbering": false,
   "user_envs_cfg": false
  },
  "toc": {
   "base_numbering": 1,
   "nav_menu": {},
   "number_sections": true,
   "sideBar": true,
   "skip_h1_title": false,
   "title_cell": "Table of Contents",
   "title_sidebar": "Contents",
   "toc_cell": false,
   "toc_position": {},
   "toc_section_display": true,
   "toc_window_display": false
  },
  "varInspector": {
   "cols": {
    "lenName": 16,
    "lenType": 16,
    "lenVar": 40
   },
   "kernels_config": {
    "python": {
     "delete_cmd_postfix": "",
     "delete_cmd_prefix": "del ",
     "library": "var_list.py",
     "varRefreshCmd": "print(var_dic_list())"
    },
    "r": {
     "delete_cmd_postfix": ") ",
     "delete_cmd_prefix": "rm(",
     "library": "var_list.r",
     "varRefreshCmd": "cat(var_dic_list()) "
    }
   },
   "types_to_exclude": [
    "module",
    "function",
    "builtin_function_or_method",
    "instance",
    "_Feature"
   ],
   "window_display": false
  }
 },
 "nbformat": 4,
 "nbformat_minor": 2
}
