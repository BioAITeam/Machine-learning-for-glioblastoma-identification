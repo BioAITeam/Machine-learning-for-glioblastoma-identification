{
 "cells": [
  {
   "cell_type": "markdown",
   "id": "c00f6332",
   "metadata": {
    "id": "c00f6332"
   },
   "source": [
    "# Libraries"
   ]
  },
  {
   "cell_type": "code",
   "execution_count": null,
   "id": "8b75ce43",
   "metadata": {
    "executionInfo": {
     "elapsed": 5014,
     "status": "ok",
     "timestamp": 1670708842489,
     "user": {
      "displayName": "Harold Brayan Arteaga Arteaga",
      "userId": "02881993551096447470"
     },
     "user_tz": 300
    },
    "id": "8b75ce43"
   },
   "outputs": [],
   "source": [
    "#Classification Methods\n",
    "from sklearn.ensemble import ExtraTreesClassifier\n",
    "from sklearn.ensemble import RandomForestClassifier\n",
    "from sklearn.ensemble import GradientBoostingClassifier\n",
    "from sklearn.svm import SVC\n",
    "from sklearn.tree import DecisionTreeClassifier\n",
    "from sklearn.neighbors import KNeighborsClassifier \n",
    "from sklearn.discriminant_analysis import QuadraticDiscriminantAnalysis\n",
    "from sklearn.naive_bayes import GaussianNB\n",
    "from sklearn.ensemble import AdaBoostClassifier\n",
    "from sklearn.linear_model import LogisticRegression\n",
    "from sklearn.discriminant_analysis import LinearDiscriminantAnalysis\n",
    "from sklearn.neural_network import MLPClassifier\n",
    "from xgboost import XGBClassifier\n",
    "\n",
    "#Metrics\n",
    "from sklearn.metrics import precision_score\n",
    "from sklearn.metrics import recall_score\n",
    "from sklearn.metrics import f1_score\n",
    "from yellowbrick.classifier import ClassificationReport \n",
    "from sklearn.metrics import classification_report\n",
    "from sklearn.metrics import confusion_matrix\n",
    "from sklearn.metrics import accuracy_score\n",
    "from sklearn.metrics import mean_squared_error as MSE\n",
    "from sklearn.metrics import roc_auc_score\n",
    "from sklearn.metrics import cohen_kappa_score\n",
    "\n",
    "#Tools\n",
    "from imblearn.over_sampling import RandomOverSampler, SMOTE, ADASYN\n",
    "from sklearn.feature_extraction.text import TfidfVectorizer\n",
    "from sklearn.model_selection import train_test_split\n",
    "from sklearn.preprocessing import LabelEncoder\n",
    "import pandas as pd\n",
    "import numpy as np\n",
    "import seaborn as sns\n",
    "import matplotlib.pyplot as plt\n",
    "from sklearn import model_selection\n",
    "import string \n",
    "import time as tm\n",
    "import os\n",
    "from scipy.sparse import csr_matrix \n",
    "from yellowbrick.model_selection import FeatureImportances\n",
    "\n",
    "#Class balance\n",
    "from imblearn.over_sampling import RandomOverSampler\n",
    "from imblearn.over_sampling import SMOTE\n",
    "from imblearn.over_sampling import SMOTEN\n",
    "from imblearn.over_sampling import ADASYN\n",
    "from imblearn.over_sampling import BorderlineSMOTE\n",
    "from imblearn.over_sampling import KMeansSMOTE\n",
    "from imblearn.over_sampling import SVMSMOTE\n",
    "from imblearn.under_sampling import ClusterCentroids \n",
    "from imblearn.under_sampling import NearMiss\n",
    "from imblearn.under_sampling import RandomUnderSampler\n",
    "from imblearn.under_sampling import TomekLinks\n",
    "\n",
    "import warnings\n",
    "warnings.filterwarnings('ignore')"
   ]
  },
  {
   "cell_type": "code",
   "execution_count": null,
   "id": "LQQ2Hmag05GC",
   "metadata": {
    "colab": {
     "base_uri": "https://localhost:8080/"
    },
    "executionInfo": {
     "elapsed": 223626,
     "status": "ok",
     "timestamp": 1670709068568,
     "user": {
      "displayName": "Harold Brayan Arteaga Arteaga",
      "userId": "02881993551096447470"
     },
     "user_tz": 300
    },
    "id": "LQQ2Hmag05GC",
    "outputId": "7195017b-fdcc-4b08-9048-841d55ad0154"
   },
   "outputs": [],
   "source": [
    "#AutoGluon\n",
    "!pip install -U pip\n",
    "!pip install -U setuptools wheel\n",
    "!pip install autogluon  # autogluon==0.3.1"
   ]
  },
  {
   "cell_type": "code",
   "execution_count": null,
   "id": "k5Z3oK4F09T4",
   "metadata": {
    "executionInfo": {
     "elapsed": 827,
     "status": "ok",
     "timestamp": 1670709069384,
     "user": {
      "displayName": "Harold Brayan Arteaga Arteaga",
      "userId": "02881993551096447470"
     },
     "user_tz": 300
    },
    "id": "k5Z3oK4F09T4"
   },
   "outputs": [],
   "source": [
    "from autogluon.tabular import TabularDataset, TabularPredictor"
   ]
  },
  {
   "cell_type": "markdown",
   "id": "be25a55b",
   "metadata": {
    "id": "be25a55b"
   },
   "source": [
    "## Functions"
   ]
  },
  {
   "cell_type": "code",
   "execution_count": null,
   "id": "ad95c1b6",
   "metadata": {
    "executionInfo": {
     "elapsed": 4,
     "status": "ok",
     "timestamp": 1670709069385,
     "user": {
      "displayName": "Harold Brayan Arteaga Arteaga",
      "userId": "02881993551096447470"
     },
     "user_tz": 300
    },
    "id": "ad95c1b6"
   },
   "outputs": [],
   "source": [
    "def load_data_complete_s1(path):\n",
    "    df_complete=pd.read_csv(path)\n",
    "    \n",
    "    # Scenario 1: Tumor_Core & Tumor_Periphery\n",
    "    # Se procede a eliminar el N_Periphery\n",
    "\n",
    "    df2 = df_complete.copy()\n",
    "    df2.drop(df2[df2.classes == \"NP\"].index, inplace=True)  \n",
    "    \n",
    "    # Eliminamos los labels\n",
    "    features = df2.copy()\n",
    "    features = features.drop(['classes'], axis=1)\n",
    "    \n",
    "    #Extraemos los labels\n",
    "    labels = df2.copy()\n",
    "    labels = labels['classes'].values\n",
    "    \n",
    "    return features,labels\n",
    "\n",
    "def load_data_complete_s2(path):\n",
    "    df_complete=pd.read_csv(path)\n",
    "    \n",
    "    # Scenario 2: Normal_Periphery & Tumor_Periphery\n",
    "    # Se procede a eliminar el T_Core\n",
    "\n",
    "    df2 = df_complete.copy()\n",
    "    df2.drop(df2[df2.classes == \"TC\"].index, inplace=True)  \n",
    "    \n",
    "    # Eliminamos los labels\n",
    "    features = df2.copy()\n",
    "    features = features.drop(['classes'], axis=1)\n",
    "    \n",
    "    #Extraemos los labels\n",
    "    labels = df2.copy()\n",
    "    labels = labels['classes'].values\n",
    "    \n",
    "    return features,labels\n",
    "\n",
    "def load_data_complete_s3(path):\n",
    "    df_complete=pd.read_csv(path)\n",
    "    # Scenario 3: Tumor_Periphery&Core & Normal_Periphery\n",
    "    \n",
    "    # Se procede aislar al N_Periphery\n",
    "    df2 = df_complete.copy()\n",
    "    df2.drop(df2[df2.classes == \"TP\"].index, inplace=True)  \n",
    "    df2.drop(df2[df2.classes == \"TC\"].index, inplace=True)  \n",
    "    \n",
    "    # Eliminamos el N_Periphery\n",
    "    df3 = df_complete.copy()\n",
    "    df3.drop(df3[df3.classes == \"NP\"].index, inplace=True) \n",
    "    \n",
    "    # y luego se procede a renombrar la columna classes con T_PC, al quedar la unión de estas\n",
    "    df3[\"classes\"] = \"TPC\"\n",
    "    \n",
    "    # Se procede a crear el DF ya con las clases que corresponde al Escenario 3: Tumor_Periphery&Core & Normal_Periphery\n",
    "    #df2 N_Periphery\n",
    "    #df3 T_PC\n",
    "\n",
    "    df4 = pd.concat([df2,df3]).reset_index(drop=True) \n",
    "    \n",
    "    # Eliminamos los labels\n",
    "    features = df4.copy()\n",
    "    features = features.drop(['classes'], axis=1)\n",
    "    \n",
    "    #Extraemos los labels\n",
    "    labels = df4.copy()\n",
    "\n",
    "    labels = labels['classes'].values\n",
    "    \n",
    "    return features,labels\n",
    "\n",
    "def load_data_complete_s4(path):\n",
    "    df_complete=pd.read_csv(path)\n",
    "    \n",
    "    # Scenario 4 new: Tumor_Core & Tumor_Periphery & N_Periphery\n",
    "\n",
    "    # Eliminamos los labels\n",
    "    features = df_complete.copy()\n",
    "    features = features.drop(['classes'], axis=1)\n",
    "    \n",
    "    #Extraemos los labels\n",
    "    labels = df_complete.copy()\n",
    "    labels = labels['classes'].values\n",
    "    \n",
    "    return features,labels"
   ]
  },
  {
   "cell_type": "code",
   "execution_count": null,
   "id": "RIuYsO-DBgC6",
   "metadata": {
    "executionInfo": {
     "elapsed": 194,
     "status": "ok",
     "timestamp": 1670712923815,
     "user": {
      "displayName": "Harold Brayan Arteaga Arteaga",
      "userId": "02881993551096447470"
     },
     "user_tz": 300
    },
    "id": "RIuYsO-DBgC6"
   },
   "outputs": [],
   "source": [
    "def top_models_autogluon(leaderboard,top_value):\n",
    "  for model_number in range(top_value):\n",
    "    # Calculate accuracy, roc_auc, f1, precision, recall\n",
    "    model_name=leaderboard[\"model\"][model_number]\n",
    "    print(\"\\n\",model_name)\n",
    "    metricas = predictor.evaluate(X_test_classes,model=model_name);\n",
    "\n",
    "    # Calculate MSE\n",
    "    y_pred = predictor.predict(X_test, model=model_name).to_numpy()\n",
    "    if type(list(np.unique(np.array(y_test)))[0]).__name__ == 'str': #If the classes are categorical with string names\n",
    "        le           = LabelEncoder() \n",
    "        le.fit(list(np.unique(np.array(y_test)))) \n",
    "        y_test_coded = le.transform(y_test) \n",
    "        y_pred_coded = le.transform(y_pred) \n",
    "        mse_s        = MSE(y_test_coded,y_pred_coded)\n",
    "        print('MSE: {0:.4f}'.format(mse_s))\n",
    "    else:\n",
    "        mse_s        = MSE(y_test,y_pred)\n",
    "        print('MSE: {0:.4f}'.format(mse_s))\n",
    "\n",
    "    if len(list(np.unique(np.array(y_test)))) > 2: #For multiclass classification (more than 2 classes)\n",
    "        f1_s        = f1_score(y_test,y_pred,average='weighted')\n",
    "        print('f1_score: {0:.4f}'.format(f1_s))\n",
    "        recall_s    = recall_score(y_test,y_pred,average='weighted')\n",
    "        print('recall_score: {0:.4f}'.format(recall_s))\n",
    "        precision_s = precision_score(y_test,y_pred,average='weighted')\n",
    "        print('precision_score: {0:.4f}'.format(precision_s))       \n",
    "        y_pred_proba = predictor.predict_proba(X_test, model=model_name)[:]\n",
    "        roc_s        = roc_auc_score(y_test, y_pred_proba, multi_class='ovo', average='weighted')\n",
    "        print('ROC_AUC: {0:.4f}'.format(roc_s))   \n",
    "  \n",
    "    # Times\n",
    "    training_time=leaderboard[\"fit_time\"][model_number]\n",
    "    print('Training_time: {0:.4}'.format(training_time))\n",
    "    testing_time=leaderboard[\"pred_time_test\"][model_number]\n",
    "    print('Training_time: {0:.4}'.format(testing_time))"
   ]
  },
  {
   "cell_type": "markdown",
   "id": "a8fb6e59",
   "metadata": {
    "id": "a8fb6e59"
   },
   "source": [
    "# Dataset"
   ]
  },
  {
   "cell_type": "code",
   "execution_count": null,
   "id": "m6ZUM9Jc2o2Z",
   "metadata": {
    "colab": {
     "base_uri": "https://localhost:8080/"
    },
    "executionInfo": {
     "elapsed": 25586,
     "status": "ok",
     "timestamp": 1670709094968,
     "user": {
      "displayName": "Harold Brayan Arteaga Arteaga",
      "userId": "02881993551096447470"
     },
     "user_tz": 300
    },
    "id": "m6ZUM9Jc2o2Z",
    "outputId": "ecad836b-6a15-43fa-d48c-2c152d679a10"
   },
   "outputs": [],
   "source": [
    "from google.colab import drive\n",
    "drive.mount('/content/drive')"
   ]
  },
  {
   "cell_type": "code",
   "execution_count": null,
   "id": "a54c579e",
   "metadata": {
    "executionInfo": {
     "elapsed": 38620,
     "status": "ok",
     "timestamp": 1670709133585,
     "user": {
      "displayName": "Harold Brayan Arteaga Arteaga",
      "userId": "02881993551096447470"
     },
     "user_tz": 300
    },
    "id": "a54c579e"
   },
   "outputs": [],
   "source": [
    "#path = '../Data/DATA_Complete_GBM.csv'\n",
    "path = '/content/drive/MyDrive/Colab Notebooks/IA/GBM/1Data/DATA_Complete_GBM.csv'\n",
    "\n",
    "featuress1,labelss1=load_data_complete_s1(path)\n",
    "featuress2,labelss2=load_data_complete_s2(path)\n",
    "featuress3,labelss3=load_data_complete_s3(path)\n",
    "featuress4,labelss4=load_data_complete_s4(path)\n"
   ]
  },
  {
   "cell_type": "markdown",
   "id": "65853643",
   "metadata": {
    "id": "65853643"
   },
   "source": [
    "# Machine learning application"
   ]
  },
  {
   "cell_type": "markdown",
   "id": "afb7b76c",
   "metadata": {
    "id": "afb7b76c"
   },
   "source": [
    "## Scenario 1"
   ]
  },
  {
   "cell_type": "code",
   "execution_count": null,
   "id": "EUJ8p1767DNS",
   "metadata": {
    "colab": {
     "base_uri": "https://localhost:8080/"
    },
    "executionInfo": {
     "elapsed": 6505,
     "status": "ok",
     "timestamp": 1670643666855,
     "user": {
      "displayName": "Harold Brayan Arteaga Arteaga",
      "userId": "02881993551096447470"
     },
     "user_tz": 300
    },
    "id": "EUJ8p1767DNS",
    "outputId": "951fb2a8-6dce-4f13-ff39-03ceeca0bf02"
   },
   "outputs": [],
   "source": [
    "# Data split\n",
    "features = featuress1\n",
    "labels   = labelss1\n",
    "\n",
    "X_train, X_test, y_train, y_test = train_test_split(features, labels, test_size=0.20, random_state=21, stratify=labels)\n",
    "\n",
    "print(X_train.shape,X_test.shape,y_train.shape,y_test.shape) \n",
    "print(np.unique(y_train, return_counts=True))\n",
    "print(np.unique(y_test, return_counts=True)) \n",
    "\n",
    "# Data balancing for training data\n",
    "sampler = ADASYN(random_state=21,n_jobs=-1) \n",
    "X_train, y_train = sampler.fit_resample(X_train, y_train)             \n",
    "print(\"y_train labels unique:   \",np.unique(y_train, return_counts=True))\n",
    "print(\"y_test labels unique:    \",np.unique(y_test, return_counts=True)) \n",
    "\n",
    "# Union with the labels\n",
    "X_train_class = pd.DataFrame()\n",
    "X_train_class['classes'] = y_train\n",
    "X_train_classes = pd.concat([X_train.reset_index(), X_train_class], axis=1)\n",
    "del X_train_classes[\"index\"]\n",
    "\n",
    "X_test_class = pd.DataFrame()\n",
    "X_test_class['classes'] = y_test\n",
    "X_test_classes = pd.concat([X_test.reset_index(), X_test_class], axis=1)\n",
    "X_test=X_test.reset_index()\n",
    "del X_test[\"index\"]\n",
    "del X_test_classes[\"index\"]"
   ]
  },
  {
   "cell_type": "code",
   "execution_count": null,
   "id": "jtOuWP13GRc5",
   "metadata": {
    "colab": {
     "base_uri": "https://localhost:8080/"
    },
    "executionInfo": {
     "elapsed": 2340647,
     "status": "ok",
     "timestamp": 1670646007492,
     "user": {
      "displayName": "Harold Brayan Arteaga Arteaga",
      "userId": "02881993551096447470"
     },
     "user_tz": 300
    },
    "id": "jtOuWP13GRc5",
    "outputId": "4301fee1-005a-4fb7-cad6-61e4327694d1"
   },
   "outputs": [],
   "source": [
    "start_time = tm.time()\n",
    "predictor = TabularPredictor(label='classes').fit(X_train_classes)#, time_limit=250)   \n",
    "TIME = tm.time() - start_time \n",
    "print(\"Time, Training: {0:.4f} [seconds]\".format(TIME))"
   ]
  },
  {
   "cell_type": "code",
   "execution_count": null,
   "id": "BNBw-KlFEMYn",
   "metadata": {
    "colab": {
     "base_uri": "https://localhost:8080/"
    },
    "executionInfo": {
     "elapsed": 1499,
     "status": "ok",
     "timestamp": 1670646008988,
     "user": {
      "displayName": "Harold Brayan Arteaga Arteaga",
      "userId": "02881993551096447470"
     },
     "user_tz": 300
    },
    "id": "BNBw-KlFEMYn",
    "outputId": "dfcd791e-5319-45bf-a04c-60a5b4c50107"
   },
   "outputs": [],
   "source": [
    "# Summary, total models\n",
    "predictor.fit_summary()"
   ]
  },
  {
   "cell_type": "code",
   "execution_count": null,
   "id": "sOa4gvkg8YMX",
   "metadata": {
    "colab": {
     "base_uri": "https://localhost:8080/"
    },
    "executionInfo": {
     "elapsed": 27640,
     "status": "ok",
     "timestamp": 1670646036626,
     "user": {
      "displayName": "Harold Brayan Arteaga Arteaga",
      "userId": "02881993551096447470"
     },
     "user_tz": 300
    },
    "id": "sOa4gvkg8YMX",
    "outputId": "44efe641-14f6-4605-9872-f2e0a5048086"
   },
   "outputs": [],
   "source": [
    "# Best models\n",
    "leaderboard = predictor.leaderboard(X_test_classes) \n"
   ]
  },
  {
   "cell_type": "code",
   "execution_count": null,
   "id": "1R3j_qd26chW",
   "metadata": {
    "colab": {
     "base_uri": "https://localhost:8080/"
    },
    "executionInfo": {
     "elapsed": 69596,
     "status": "ok",
     "timestamp": 1670646106213,
     "user": {
      "displayName": "Harold Brayan Arteaga Arteaga",
      "userId": "02881993551096447470"
     },
     "user_tz": 300
    },
    "id": "1R3j_qd26chW",
    "outputId": "8632c86d-6da6-4c8e-e100-8ca10e3c3ab4"
   },
   "outputs": [],
   "source": [
    "# Metrics for the top models\n",
    "top_models_autogluon(leaderboard,top_value=4)\n"
   ]
  },
  {
   "cell_type": "markdown",
   "id": "0e20d6d2",
   "metadata": {
    "id": "0e20d6d2"
   },
   "source": [
    "## Scenario 2"
   ]
  },
  {
   "cell_type": "code",
   "execution_count": null,
   "id": "27MqWKhxBPEI",
   "metadata": {
    "colab": {
     "base_uri": "https://localhost:8080/"
    },
    "executionInfo": {
     "elapsed": 12833,
     "status": "ok",
     "timestamp": 1670646119036,
     "user": {
      "displayName": "Harold Brayan Arteaga Arteaga",
      "userId": "02881993551096447470"
     },
     "user_tz": 300
    },
    "id": "27MqWKhxBPEI",
    "outputId": "fd62a622-8c44-4780-c34b-486a562ab0bd"
   },
   "outputs": [],
   "source": [
    "# Data split\n",
    "features = featuress2\n",
    "labels   = labelss2\n",
    "\n",
    "X_train, X_test, y_train, y_test = train_test_split(features, labels, test_size=0.20, random_state=21, stratify=labels)\n",
    "\n",
    "print(X_train.shape,X_test.shape,y_train.shape,y_test.shape) \n",
    "print(np.unique(y_train, return_counts=True))\n",
    "print(np.unique(y_test, return_counts=True)) \n",
    "\n",
    "# Data balancing for training data\n",
    "sampler = SVMSMOTE(random_state=8,n_jobs=-1) \n",
    "X_train, y_train = sampler.fit_resample(X_train, y_train)             \n",
    "print(\"y_train labels unique:   \",np.unique(y_train, return_counts=True))\n",
    "print(\"y_test labels unique:    \",np.unique(y_test, return_counts=True)) \n",
    "\n",
    "# Union with the labels\n",
    "X_train_class = pd.DataFrame()\n",
    "X_train_class['classes'] = y_train\n",
    "X_train_classes = pd.concat([X_train.reset_index(), X_train_class], axis=1)\n",
    "del X_train_classes[\"index\"]\n",
    "\n",
    "X_test_class = pd.DataFrame()\n",
    "X_test_class['classes'] = y_test\n",
    "X_test_classes = pd.concat([X_test.reset_index(), X_test_class], axis=1)\n",
    "X_test=X_test.reset_index()\n",
    "del X_test[\"index\"]\n",
    "del X_test_classes[\"index\"]"
   ]
  },
  {
   "cell_type": "code",
   "execution_count": null,
   "id": "rTMz8Qy5BleK",
   "metadata": {
    "colab": {
     "base_uri": "https://localhost:8080/"
    },
    "executionInfo": {
     "elapsed": 1588949,
     "status": "ok",
     "timestamp": 1670647707973,
     "user": {
      "displayName": "Harold Brayan Arteaga Arteaga",
      "userId": "02881993551096447470"
     },
     "user_tz": 300
    },
    "id": "rTMz8Qy5BleK",
    "outputId": "be32fd38-267f-4141-81b1-e9b32f970a33"
   },
   "outputs": [],
   "source": [
    "start_time = tm.time()\n",
    "predictor = TabularPredictor(label='classes').fit(X_train_classes)#, time_limit=250)   \n",
    "TIME = tm.time() - start_time \n",
    "print(\"Time, Training: {0:.4f} [seconds]\".format(TIME))"
   ]
  },
  {
   "cell_type": "code",
   "execution_count": null,
   "id": "jpTWooVVNzW-",
   "metadata": {
    "colab": {
     "base_uri": "https://localhost:8080/"
    },
    "executionInfo": {
     "elapsed": 962,
     "status": "ok",
     "timestamp": 1670647708932,
     "user": {
      "displayName": "Harold Brayan Arteaga Arteaga",
      "userId": "02881993551096447470"
     },
     "user_tz": 300
    },
    "id": "jpTWooVVNzW-",
    "outputId": "a672d9dc-86df-4f5b-cab4-2ef5ecb36954"
   },
   "outputs": [],
   "source": [
    "# Summary, total models\n",
    "predictor.fit_summary()"
   ]
  },
  {
   "cell_type": "code",
   "execution_count": null,
   "id": "of9XaXRwOGXy",
   "metadata": {
    "colab": {
     "base_uri": "https://localhost:8080/"
    },
    "executionInfo": {
     "elapsed": 27683,
     "status": "ok",
     "timestamp": 1670647736614,
     "user": {
      "displayName": "Harold Brayan Arteaga Arteaga",
      "userId": "02881993551096447470"
     },
     "user_tz": 300
    },
    "id": "of9XaXRwOGXy",
    "outputId": "68f48d64-4d43-4501-f218-457853dfb71c"
   },
   "outputs": [],
   "source": [
    "# Best models\n",
    "leaderboard = predictor.leaderboard(X_test_classes) \n"
   ]
  },
  {
   "cell_type": "code",
   "execution_count": null,
   "id": "_Nbrg874HE5Y",
   "metadata": {
    "colab": {
     "base_uri": "https://localhost:8080/"
    },
    "executionInfo": {
     "elapsed": 44216,
     "status": "ok",
     "timestamp": 1670647780821,
     "user": {
      "displayName": "Harold Brayan Arteaga Arteaga",
      "userId": "02881993551096447470"
     },
     "user_tz": 300
    },
    "id": "_Nbrg874HE5Y",
    "outputId": "5ce54fe0-4262-4392-836b-7411012e033b"
   },
   "outputs": [],
   "source": [
    "# Metrics for the top models\n",
    "top_models_autogluon(leaderboard,top_value=4)\n"
   ]
  },
  {
   "cell_type": "markdown",
   "id": "9078c73d",
   "metadata": {
    "id": "9078c73d"
   },
   "source": [
    "## Scenario 3"
   ]
  },
  {
   "cell_type": "code",
   "execution_count": null,
   "id": "iBx3k-z9BRlA",
   "metadata": {
    "colab": {
     "base_uri": "https://localhost:8080/"
    },
    "executionInfo": {
     "elapsed": 7577,
     "status": "ok",
     "timestamp": 1670647788390,
     "user": {
      "displayName": "Harold Brayan Arteaga Arteaga",
      "userId": "02881993551096447470"
     },
     "user_tz": 300
    },
    "id": "iBx3k-z9BRlA",
    "outputId": "15c66831-0fdc-4360-b637-22c3f1081f8d"
   },
   "outputs": [],
   "source": [
    "# Data split\n",
    "features = featuress3\n",
    "labels   = labelss3\n",
    "\n",
    "X_train, X_test, y_train, y_test = train_test_split(features, labels, test_size=0.20, random_state=21, stratify=labels)\n",
    "\n",
    "print(X_train.shape,X_test.shape,y_train.shape,y_test.shape) \n",
    "print(np.unique(y_train, return_counts=True))\n",
    "print(np.unique(y_test, return_counts=True)) \n",
    "\n",
    "# Data balancing for training data\n",
    "sampler = SMOTE(random_state=21,n_jobs=-1) \n",
    "X_train, y_train = sampler.fit_resample(X_train, y_train) \n",
    "print(\"y_train labels unique:   \",np.unique(y_train, return_counts=True))\n",
    "print(\"y_test labels unique:    \",np.unique(y_test, return_counts=True)) \n",
    "\n",
    "# Union with the labels\n",
    "X_train_class = pd.DataFrame()\n",
    "X_train_class['classes'] = y_train\n",
    "X_train_classes = pd.concat([X_train.reset_index(), X_train_class], axis=1)\n",
    "del X_train_classes[\"index\"]\n",
    "\n",
    "X_test_class = pd.DataFrame()\n",
    "X_test_class['classes'] = y_test\n",
    "X_test_classes = pd.concat([X_test.reset_index(), X_test_class], axis=1)\n",
    "X_test=X_test.reset_index()\n",
    "del X_test[\"index\"]\n",
    "del X_test_classes[\"index\"]"
   ]
  },
  {
   "cell_type": "code",
   "execution_count": null,
   "id": "Cxw-3p8MBSPZ",
   "metadata": {
    "colab": {
     "base_uri": "https://localhost:8080/"
    },
    "executionInfo": {
     "elapsed": 2287143,
     "status": "ok",
     "timestamp": 1670650075519,
     "user": {
      "displayName": "Harold Brayan Arteaga Arteaga",
      "userId": "02881993551096447470"
     },
     "user_tz": 300
    },
    "id": "Cxw-3p8MBSPZ",
    "outputId": "bae0bd2a-c6bb-440d-ea16-ced70f44456c"
   },
   "outputs": [],
   "source": [
    "start_time = tm.time()\n",
    "predictor = TabularPredictor(label='classes').fit(X_train_classes)#, time_limit=250)   \n",
    "TIME = tm.time() - start_time \n",
    "print(\"Time, Training: {0:.4f} [seconds]\".format(TIME))"
   ]
  },
  {
   "cell_type": "code",
   "execution_count": null,
   "id": "-H2P9-tFBolP",
   "metadata": {
    "colab": {
     "base_uri": "https://localhost:8080/"
    },
    "executionInfo": {
     "elapsed": 1190,
     "status": "ok",
     "timestamp": 1670650076706,
     "user": {
      "displayName": "Harold Brayan Arteaga Arteaga",
      "userId": "02881993551096447470"
     },
     "user_tz": 300
    },
    "id": "-H2P9-tFBolP",
    "outputId": "2d87b3d2-f94d-4905-da8a-9a9a5a816d46"
   },
   "outputs": [],
   "source": [
    "# Summary, total models\n",
    "predictor.fit_summary()"
   ]
  },
  {
   "cell_type": "code",
   "execution_count": null,
   "id": "wZK4NGIcOIIK",
   "metadata": {
    "colab": {
     "base_uri": "https://localhost:8080/"
    },
    "executionInfo": {
     "elapsed": 37130,
     "status": "ok",
     "timestamp": 1670650113835,
     "user": {
      "displayName": "Harold Brayan Arteaga Arteaga",
      "userId": "02881993551096447470"
     },
     "user_tz": 300
    },
    "id": "wZK4NGIcOIIK",
    "outputId": "b3b5c03d-712b-46a4-b711-da8fb3ce072b"
   },
   "outputs": [],
   "source": [
    "# Best models\n",
    "leaderboard = predictor.leaderboard(X_test_classes) \n"
   ]
  },
  {
   "cell_type": "code",
   "execution_count": null,
   "id": "oKVpvO2sHGJV",
   "metadata": {
    "colab": {
     "base_uri": "https://localhost:8080/"
    },
    "executionInfo": {
     "elapsed": 78731,
     "status": "ok",
     "timestamp": 1670650192557,
     "user": {
      "displayName": "Harold Brayan Arteaga Arteaga",
      "userId": "02881993551096447470"
     },
     "user_tz": 300
    },
    "id": "oKVpvO2sHGJV",
    "outputId": "cb892c99-2892-457e-d4cb-e94e88aadb69"
   },
   "outputs": [],
   "source": [
    "# Metrics for the top models\n",
    "top_models_autogluon(leaderboard,top_value=4)\n"
   ]
  },
  {
   "cell_type": "markdown",
   "id": "0d0f434e",
   "metadata": {
    "id": "0d0f434e"
   },
   "source": [
    "## Scenario 4"
   ]
  },
  {
   "cell_type": "code",
   "execution_count": null,
   "id": "507ad030",
   "metadata": {
    "colab": {
     "base_uri": "https://localhost:8080/"
    },
    "executionInfo": {
     "elapsed": 14666,
     "status": "ok",
     "timestamp": 1670709172091,
     "user": {
      "displayName": "Harold Brayan Arteaga Arteaga",
      "userId": "02881993551096447470"
     },
     "user_tz": 300
    },
    "id": "507ad030",
    "outputId": "7e3e178e-89e4-433b-ca0b-1256416870f3"
   },
   "outputs": [],
   "source": [
    "# Data split\n",
    "features = featuress4\n",
    "labels   = labelss4\n",
    "\n",
    "X_train, X_test, y_train, y_test = train_test_split(features, labels, test_size=0.20, random_state=21, stratify=labels)\n",
    "\n",
    "print(X_train.shape,X_test.shape,y_train.shape,y_test.shape) \n",
    "print(np.unique(y_train, return_counts=True))\n",
    "print(np.unique(y_test, return_counts=True)) \n",
    "\n",
    "# Data balancing for training data\n",
    "sampler = RandomOverSampler(random_state=21) \n",
    "X_train, y_train = sampler.fit_resample(X_train, y_train)            \n",
    "print(\"y_train labels unique:   \",np.unique(y_train, return_counts=True))\n",
    "print(\"y_test labels unique:    \",np.unique(y_test, return_counts=True)) \n",
    "\n",
    "# Union with the labels\n",
    "X_train_class = pd.DataFrame()\n",
    "X_train_class['classes'] = y_train\n",
    "X_train_classes = pd.concat([X_train.reset_index(), X_train_class], axis=1)\n",
    "del X_train_classes[\"index\"]\n",
    "\n",
    "X_test_class = pd.DataFrame()\n",
    "X_test_class['classes'] = y_test\n",
    "X_test_classes = pd.concat([X_test.reset_index(), X_test_class], axis=1)\n",
    "X_test=X_test.reset_index()\n",
    "del X_test[\"index\"]\n",
    "del X_test_classes[\"index\"]"
   ]
  },
  {
   "cell_type": "code",
   "execution_count": null,
   "id": "7IBs5oiRBT-s",
   "metadata": {
    "colab": {
     "base_uri": "https://localhost:8080/"
    },
    "executionInfo": {
     "elapsed": 2412394,
     "status": "ok",
     "timestamp": 1670711673416,
     "user": {
      "displayName": "Harold Brayan Arteaga Arteaga",
      "userId": "02881993551096447470"
     },
     "user_tz": 300
    },
    "id": "7IBs5oiRBT-s",
    "outputId": "b9cdc342-7044-4a9d-99ed-c5c8813e59c4"
   },
   "outputs": [],
   "source": [
    "start_time = tm.time()\n",
    "predictor = TabularPredictor(label='classes').fit(X_train_classes)#, time_limit=250)   \n",
    "TIME = tm.time() - start_time \n",
    "print(\"Time, Training: {0:.4f} [seconds]\".format(TIME))"
   ]
  },
  {
   "cell_type": "code",
   "execution_count": null,
   "id": "7ZoMQG9mBp-_",
   "metadata": {
    "colab": {
     "base_uri": "https://localhost:8080/"
    },
    "executionInfo": {
     "elapsed": 1830,
     "status": "ok",
     "timestamp": 1670711675241,
     "user": {
      "displayName": "Harold Brayan Arteaga Arteaga",
      "userId": "02881993551096447470"
     },
     "user_tz": 300
    },
    "id": "7ZoMQG9mBp-_",
    "outputId": "e438aae4-2a78-48da-dc3e-be0624887fe7"
   },
   "outputs": [],
   "source": [
    "# Summary, total models\n",
    "predictor.fit_summary()"
   ]
  },
  {
   "cell_type": "code",
   "execution_count": null,
   "id": "pU-dZ7ORFyiW",
   "metadata": {
    "colab": {
     "base_uri": "https://localhost:8080/"
    },
    "executionInfo": {
     "elapsed": 35389,
     "status": "ok",
     "timestamp": 1670711711518,
     "user": {
      "displayName": "Harold Brayan Arteaga Arteaga",
      "userId": "02881993551096447470"
     },
     "user_tz": 300
    },
    "id": "pU-dZ7ORFyiW",
    "outputId": "b424ade9-2a78-4403-a902-a90749280097"
   },
   "outputs": [],
   "source": [
    "# Best models\n",
    "leaderboard = predictor.leaderboard(X_test_classes) \n"
   ]
  },
  {
   "cell_type": "code",
   "execution_count": null,
   "id": "1M5nMkk_QDJP",
   "metadata": {
    "colab": {
     "base_uri": "https://localhost:8080/"
    },
    "executionInfo": {
     "elapsed": 197388,
     "status": "ok",
     "timestamp": 1670713130266,
     "user": {
      "displayName": "Harold Brayan Arteaga Arteaga",
      "userId": "02881993551096447470"
     },
     "user_tz": 300
    },
    "id": "1M5nMkk_QDJP",
    "outputId": "fbce77ed-6dd4-4cfc-909d-c99fbd09d963"
   },
   "outputs": [],
   "source": [
    "# Metrics for the top models\n",
    "top_models_autogluon(leaderboard,top_value=4)\n"
   ]
  },
  {
   "cell_type": "code",
   "execution_count": null,
   "id": "FTLx8YBROR_p",
   "metadata": {
    "id": "FTLx8YBROR_p"
   },
   "outputs": [],
   "source": []
  }
 ],
 "metadata": {
  "colab": {
   "provenance": []
  },
  "kernelspec": {
   "display_name": "Python 3 (ipykernel)",
   "language": "python",
   "name": "python3"
  },
  "language_info": {
   "codemirror_mode": {
    "name": "ipython",
    "version": 3
   },
   "file_extension": ".py",
   "mimetype": "text/x-python",
   "name": "python",
   "nbconvert_exporter": "python",
   "pygments_lexer": "ipython3",
   "version": "3.8.12"
  }
 },
 "nbformat": 4,
 "nbformat_minor": 5
}
